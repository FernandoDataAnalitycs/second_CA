{
 "cells": [
  {
   "cell_type": "markdown",
   "id": "370e1160",
   "metadata": {},
   "source": [
    "## things to consider in Statistics\n",
    "\n",
    "1- not just use decribe()/ explain the mean or every column\n",
    "2- make comparison about corelations between columns, heatmap can help.DO REGRESSIONA ANALYSIS\n",
    "3-create subction: q-test \n",
    "4- do a summary"
   ]
  },
  {
   "cell_type": "code",
   "execution_count": 5,
   "id": "a9d8b9c0",
   "metadata": {},
   "outputs": [],
   "source": [
    "import pandas as pd\n",
    "import numpy as np\n",
    "import matplotlib.pyplot as plt\n",
    "import requests\n",
    "from bs4 import BeautifulSoup\n"
   ]
  },
  {
   "cell_type": "code",
   "execution_count": 1,
   "id": "86da6d5e",
   "metadata": {},
   "outputs": [],
   "source": [
    "api_uk_naptan = \"https://www.transportforireland.ie/transitData/naptan.json\""
   ]
  },
  {
   "cell_type": "code",
   "execution_count": 2,
   "id": "fb0c407d",
   "metadata": {},
   "outputs": [],
   "source": [
    "api_irl_naptan = 'https://naptan.api.dft.gov.uk/v1/access-nodes?dataFormat=csv'"
   ]
  },
  {
   "cell_type": "markdown",
   "id": "09ebdbdb",
   "metadata": {},
   "source": [
    "## MEAKE GET PETITIONS :)"
   ]
  },
  {
   "cell_type": "code",
   "execution_count": 10,
   "id": "1e38fd9c",
   "metadata": {},
   "outputs": [],
   "source": [
    "#getting json info of N\n",
    "naptan_irl_json = \"https://www.transportforireland.ie/transitData/naptan.json\"\n",
    "response = requests.get(naptan_irl_json)"
   ]
  },
  {
   "cell_type": "code",
   "execution_count": 11,
   "id": "f9a165a7",
   "metadata": {},
   "outputs": [
    {
     "data": {
      "text/plain": [
       "<Response [200]>"
      ]
     },
     "execution_count": 11,
     "metadata": {},
     "output_type": "execute_result"
    }
   ],
   "source": [
    "response"
   ]
  },
  {
   "cell_type": "code",
   "execution_count": 13,
   "id": "277e74f9",
   "metadata": {},
   "outputs": [],
   "source": [
    "response = requests.get(naptan_irl_json)\n",
    "\n",
    "# Parse the JSON response\n",
    "data = response.json()"
   ]
  },
  {
   "cell_type": "code",
   "execution_count": 22,
   "id": "fd5ec828",
   "metadata": {},
   "outputs": [
    {
     "data": {
      "text/plain": [
       "{'AtcoCode': '7010PB003857',\n",
       " 'CommonName': 'Ballymagrorty',\n",
       " 'CommonNameGA': 'B Mhic Robhartaigh',\n",
       " 'ShortCommonName': 'Ballymagrorty',\n",
       " 'ShortCommonNameGA': 'B Mhic Robhartaigh',\n",
       " 'NptgLocalityRef': 'E0701003',\n",
       " 'Easting': 641057,\n",
       " 'Northing': 920841,\n",
       " 'Latitude': 55.0334043,\n",
       " 'Longitude': -7.3577718,\n",
       " 'StopType': 'BCT',\n",
       " 'BusStopType': 'CUS',\n",
       " 'TimingStatus': 'OTH',\n",
       " 'CompassPoint': 'NW',\n",
       " 'AdministrativeAreaRef': 701,\n",
       " 'Status': 'active',\n",
       " 'CreationDateTime': '1969-12-31T00:00:00.000',\n",
       " 'ModificationDateTime': '2021-06-01T16:08:18.000'}"
      ]
     },
     "execution_count": 22,
     "metadata": {},
     "output_type": "execute_result"
    }
   ],
   "source": [
    "data['features'][0]['properties']"
   ]
  },
  {
   "cell_type": "code",
   "execution_count": null,
   "id": "586269a7",
   "metadata": {},
   "outputs": [],
   "source": []
  }
 ],
 "metadata": {
  "kernelspec": {
   "display_name": "Python 3 (ipykernel)",
   "language": "python",
   "name": "python3"
  },
  "language_info": {
   "codemirror_mode": {
    "name": "ipython",
    "version": 3
   },
   "file_extension": ".py",
   "mimetype": "text/x-python",
   "name": "python",
   "nbconvert_exporter": "python",
   "pygments_lexer": "ipython3",
   "version": "3.10.13"
  }
 },
 "nbformat": 4,
 "nbformat_minor": 5
}
