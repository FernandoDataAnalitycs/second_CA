{
 "cells": [
  {
   "cell_type": "markdown",
   "id": "370e1160",
   "metadata": {},
   "source": [
    "## things to consider in Statistics\n",
    "\n",
    "1- not just use decribe()/ explain the mean or every column\n",
    "2- make comparison about corelations between columns, heatmap can help.DO REGRESSIONA ANALYSIS\n",
    "3-create subction: q-test \n",
    "4- do a summary"
   ]
  },
  {
   "cell_type": "code",
   "execution_count": 1,
   "id": "86da6d5e",
   "metadata": {},
   "outputs": [],
   "source": [
    "api_uk_naptan = \"https://www.transportforireland.ie/transitData/naptan.json\""
   ]
  },
  {
   "cell_type": "code",
   "execution_count": 2,
   "id": "fb0c407d",
   "metadata": {},
   "outputs": [],
   "source": [
    "api_irl_naptan = 'https://naptan.api.dft.gov.uk/v1/access-nodes?dataFormat=csv'"
   ]
  },
  {
   "cell_type": "markdown",
   "id": "09ebdbdb",
   "metadata": {},
   "source": [
    "## MEAKE GET PETITIONS :)"
   ]
  },
  {
   "cell_type": "code",
   "execution_count": null,
   "id": "904a66b8",
   "metadata": {},
   "outputs": [],
   "source": []
  }
 ],
 "metadata": {
  "kernelspec": {
   "display_name": "Python 3 (ipykernel)",
   "language": "python",
   "name": "python3"
  },
  "language_info": {
   "codemirror_mode": {
    "name": "ipython",
    "version": 3
   },
   "file_extension": ".py",
   "mimetype": "text/x-python",
   "name": "python",
   "nbconvert_exporter": "python",
   "pygments_lexer": "ipython3",
   "version": "3.10.13"
  }
 },
 "nbformat": 4,
 "nbformat_minor": 5
}
